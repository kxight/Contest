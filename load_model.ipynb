{
 "cells": [
  {
   "cell_type": "code",
   "execution_count": 3,
   "id": "f5c3a097-43c5-4e20-b0fd-4081bd9dc2b4",
   "metadata": {},
   "outputs": [
    {
     "name": "stdout",
     "output_type": "stream",
     "text": [
      "Found 6 validated image filenames.\n",
      "score (mse, mae):\n",
      " [0.0010724205058068037, 0.030621135607361794]\n",
      "prediction:\n",
      " [[41.527443 ]\n",
      " [28.104815 ]\n",
      " [12.395731 ]\n",
      " [ 7.4439287]\n",
      " [23.332384 ]\n",
      " [21.510624 ]]\n"
     ]
    }
   ],
   "source": [
    "from keras.models import Model, load_model\n",
    "from keras_preprocessing.image import ImageDataGenerator\n",
    "import pandas as pd\n",
    "import numpy as np\n",
    "import cv2\n",
    "\n",
    "\n",
    "BATCH_SIZE = 5\n",
    "IMAGE_SIZE = (256,256)\n",
    "\n",
    "\n",
    "dataframe = pd.read_csv('contest_foodweight/adj_fried_noodles_dataset.csv', delimiter=',', header=0)\n",
    "\n",
    "datagen_noaug = ImageDataGenerator(rescale=1./255)\n",
    "\n",
    "test_generator = datagen_noaug.flow_from_dataframe(\n",
    "    dataframe=dataframe.loc[0:5],\n",
    "    directory='contest_foodweight/images',\n",
    "    x_col='filename',\n",
    "    y_col='norm_noodle',\n",
    "    shuffle=False,\n",
    "    target_size=IMAGE_SIZE,\n",
    "    batch_size=BATCH_SIZE,\n",
    "    class_mode='other')\n",
    "\n",
    "model = load_model('noodle_best.h5')\n",
    "score = model.evaluate_generator(\n",
    "    test_generator,\n",
    "    steps=len(test_generator))\n",
    "print('score (mse, mae):\\n',score)\n",
    "\n",
    "\n",
    "test_generator.reset()\n",
    "predict = model.predict_generator(\n",
    "    test_generator,\n",
    "    steps=len(test_generator),\n",
    "    workers = 1,\n",
    "    use_multiprocessing=False)\n",
    "print('prediction:\\n',predict*268)\n",
    "\n",
    "\n",
    "\n"
   ]
  },
  {
   "cell_type": "code",
   "execution_count": null,
   "id": "b6ba9f64-d8be-4a8f-948c-c9eea3236987",
   "metadata": {},
   "outputs": [],
   "source": []
  }
 ],
 "metadata": {
  "environment": {
   "name": "tf2-gpu.2-6.m80",
   "type": "gcloud",
   "uri": "gcr.io/deeplearning-platform-release/tf2-gpu.2-6:m80"
  },
  "kernelspec": {
   "display_name": "Python 3",
   "language": "python",
   "name": "python3"
  },
  "language_info": {
   "codemirror_mode": {
    "name": "ipython",
    "version": 3
   },
   "file_extension": ".py",
   "mimetype": "text/x-python",
   "name": "python",
   "nbconvert_exporter": "python",
   "pygments_lexer": "ipython3",
   "version": "3.7.10"
  }
 },
 "nbformat": 4,
 "nbformat_minor": 5
}
